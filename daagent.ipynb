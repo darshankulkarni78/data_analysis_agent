{
 "cells": [
  {
   "cell_type": "markdown",
   "id": "22902f48",
   "metadata": {},
   "source": [
    "- To see the images from visualisation, first create a `figures` folder. You can also change that folder name in the visualisation function.\n",
    "\n",
    "- For visualisation, there are different types of charts, and each one has its own parameter requirements. Check the visualisation function cell for the expected parameters and try accordingly.\n",
    "\n",
    "- For data analysis, same as visualisation, according to the type of analysis, you can change the `params` and test it."
   ]
  },
  {
   "cell_type": "code",
   "execution_count": 1,
   "id": "c90336df",
   "metadata": {},
   "outputs": [
    {
     "data": {
      "text/plain": [
       "True"
      ]
     },
     "execution_count": 1,
     "metadata": {},
     "output_type": "execute_result"
    }
   ],
   "source": [
    "import os\n",
    "import io\n",
    "import uuid\n",
    "import requests\n",
    "import pandas as pd\n",
    "import numpy as np\n",
    "import matplotlib.pyplot as plt\n",
    "import seaborn as sns\n",
    "import fitz  # PyMuPDF\n",
    "import pdfplumber\n",
    "import docx\n",
    "import pytesseract\n",
    "from PIL import Image\n",
    "from dotenv import load_dotenv\n",
    "load_dotenv()\n"
   ]
  },
  {
   "cell_type": "code",
   "execution_count": 2,
   "id": "9b087705",
   "metadata": {},
   "outputs": [],
   "source": [
    "# File Upload & Extraction Functions\n",
    "\n",
    "def extract_text_from_pdf(file_bytes: bytes) -> str:\n",
    "    try:\n",
    "        with pdfplumber.open(io.BytesIO(file_bytes)) as pdf:\n",
    "            text = \"\\n\".join(page.extract_text() or \"\" for page in pdf.pages)\n",
    "        return text.strip()\n",
    "    except Exception:\n",
    "        doc = fitz.open(stream=file_bytes, filetype=\"pdf\")\n",
    "        text = \"\"\n",
    "        for page in doc:\n",
    "            text += page.get_text()\n",
    "        return text.strip()\n",
    "\n",
    "def extract_text_from_docx(file_bytes: bytes) -> str:\n",
    "    doc = docx.Document(io.BytesIO(file_bytes))\n",
    "    return \"\\n\".join([para.text for para in doc.paragraphs])\n",
    "\n",
    "def extract_text_from_image(file_bytes: bytes) -> str:\n",
    "    image = Image.open(io.BytesIO(file_bytes))\n",
    "    return pytesseract.image_to_string(image)\n",
    "\n",
    "def clean_text(text: str) -> str:\n",
    "    return \" \".join(text.split())\n",
    "\n",
    "def standardize_tabular(df: pd.DataFrame) -> pd.DataFrame:\n",
    "    df.columns = [col.strip().lower().replace(\" \", \"_\") for col in df.columns]\n",
    "    return df\n",
    "\n",
    "def detect_file_type(filename: str) -> str:\n",
    "    ext = os.path.splitext(filename)[1].lower()\n",
    "    return ext\n",
    "\n",
    "def upload_file(file_bytes: bytes, filename: str):\n",
    "    ext = detect_file_type(filename)\n",
    "    result = {}\n",
    "\n",
    "    try:\n",
    "        if ext in [\".csv\"]:\n",
    "            df = pd.read_csv(io.BytesIO(file_bytes))\n",
    "            df = standardize_tabular(df)\n",
    "            result = {\"type\": \"tabular\", \"data\": df.to_dict(orient=\"records\")}\n",
    "        elif ext in [\".xlsx\"]:\n",
    "            df = pd.read_excel(io.BytesIO(file_bytes))\n",
    "            df = standardize_tabular(df)\n",
    "            result = {\"type\": \"tabular\", \"data\": df.to_dict(orient=\"records\")}\n",
    "        elif ext in [\".pdf\"]:\n",
    "            text = extract_text_from_pdf(file_bytes)\n",
    "            result = {\"type\": \"text\", \"data\": clean_text(text)}\n",
    "        elif ext in [\".doc\", \".docx\"]:\n",
    "            text = extract_text_from_docx(file_bytes)\n",
    "            result = {\"type\": \"text\", \"data\": clean_text(text)}\n",
    "        elif ext in [\".txt\"]:\n",
    "            text = file_bytes.decode(\"utf-8\", errors=\"ignore\")\n",
    "            result = {\"type\": \"text\", \"data\": clean_text(text)}\n",
    "        elif ext in [\".png\", \".jpg\", \".jpeg\", \".bmp\", \".tiff\"]:\n",
    "            text = extract_text_from_image(file_bytes)\n",
    "            result = {\"type\": \"text\", \"data\": clean_text(text)}\n",
    "        else:\n",
    "            raise ValueError(\"Unsupported file type.\")\n",
    "    except Exception as e:\n",
    "        raise ValueError(f\"File processing error: {str(e)}\")\n",
    "\n",
    "    return result\n"
   ]
  },
  {
   "cell_type": "code",
   "execution_count": 3,
   "id": "7287cc30",
   "metadata": {},
   "outputs": [],
   "source": [
    "# LLM Model API Call\n",
    "\n",
    "TOGETHER_API_KEY =  os.getenv(\"TOGETHER_API_KEY\")\n",
    "TOGETHER_API_URL = \"https://api.together.xyz/v1/chat/completions\"\n",
    "\n",
    "def ask_llm(question: str, context: dict) -> str:\n",
    "    prompt = f\"Context: {context}\\n\\nQuestion: {question}\\nAnswer:\"\n",
    "    payload = {\n",
    "        \"model\": \"meta-llama/Llama-4-Maverick-17B-128E-Instruct-FP8\",\n",
    "        \"messages\": [{\"role\": \"user\", \"content\": prompt}],\n",
    "        \"max_tokens\": 512,\n",
    "        \"temperature\": 0.2,\n",
    "    }\n",
    "    headers = {\"Authorization\": f\"Bearer {TOGETHER_API_KEY}\"}\n",
    "    response = requests.post(TOGETHER_API_URL, json=payload, headers=headers)\n",
    "    response.raise_for_status()\n",
    "    return response.json()[\"choices\"][0][\"message\"][\"content\"]\n"
   ]
  },
  {
   "cell_type": "code",
   "execution_count": 4,
   "id": "9046fbe3",
   "metadata": {},
   "outputs": [],
   "source": [
    "# Data Analysis Functions\n",
    "\n",
    "def analyze_data(data, analysis_type, params):\n",
    "    df = pd.DataFrame(data)\n",
    "    if analysis_type == \"describe\":\n",
    "        return df.describe().to_dict()\n",
    "    elif analysis_type == \"correlation\":\n",
    "        numeric_df = df.select_dtypes(include='number')\n",
    "        return numeric_df.corr().to_dict()\n",
    "    elif analysis_type == \"groupby\":\n",
    "        group_col = params.get(\"group_col\")\n",
    "        agg_col = params.get(\"agg_col\")\n",
    "        agg_func = params.get(\"agg_func\", \"mean\")\n",
    "        return df.groupby(group_col)[agg_col].agg(agg_func).to_dict()\n",
    "    elif analysis_type == \"zscore_anomaly\":\n",
    "        col = params.get(\"col\")\n",
    "        zscores = (df[col] - df[col].mean()) / df[col].std()\n",
    "        anomalies = df[abs(zscores) > 3]\n",
    "        return anomalies.to_dict(orient=\"records\")\n",
    "    return {\"error\": \"Unknown analysis type\"}\n"
   ]
  },
  {
   "cell_type": "code",
   "execution_count": 5,
   "id": "99a1d8e8",
   "metadata": {},
   "outputs": [],
   "source": [
    "# Visualization Functions\n",
    "\n",
    "def generate_visualization(data, chart_type, params):\n",
    "    df = pd.DataFrame(data)\n",
    "    fig_id = str(uuid.uuid4())\n",
    "    fig_path = os.path.join(\"figures\", f\"{fig_id}.png\")\n",
    "\n",
    "    if chart_type == \"hist\":\n",
    "        col = params.get(\"col\")\n",
    "        plt.figure()\n",
    "        sns.histplot(df[col])\n",
    "        plt.savefig(fig_path)\n",
    "    elif chart_type == \"bar\":\n",
    "        x = params.get(\"x\")\n",
    "        y = params.get(\"y\")\n",
    "        plt.figure()\n",
    "        sns.barplot(x=df[x], y=df[y])\n",
    "        plt.savefig(fig_path)\n",
    "    elif chart_type == \"scatter\":\n",
    "        x = params.get(\"x\")\n",
    "        y = params.get(\"y\")\n",
    "        plt.figure()\n",
    "        sns.scatterplot(x=df[x], y=df[y])\n",
    "        plt.savefig(fig_path)\n",
    "    elif chart_type == \"box\":\n",
    "        col = params.get(\"col\")\n",
    "        plt.figure()\n",
    "        sns.boxplot(y=df[col])\n",
    "        plt.savefig(fig_path)\n",
    "    elif chart_type == \"heatmap\":\n",
    "        plt.figure()\n",
    "        sns.heatmap(df.corr(), annot=True)\n",
    "        plt.savefig(fig_path)\n",
    "    else:\n",
    "        return None\n",
    "    plt.close()\n",
    "    return f\"/{fig_path.replace(os.sep, '/')}\"\n"
   ]
  },
  {
   "cell_type": "code",
   "execution_count": 6,
   "id": "6c365c87",
   "metadata": {},
   "outputs": [],
   "source": [
    "# Agent Class\n",
    "\n",
    "class ChatAgent:\n",
    "    def __init__(self):\n",
    "        self.history = []\n",
    "        self.context = {}\n",
    "        self.tabular_data = None\n",
    "\n",
    "    def store_context(self, result):\n",
    "        self.context = result\n",
    "        if result.get(\"type\") == \"tabular\":\n",
    "            self.tabular_data = result[\"data\"]\n",
    "\n",
    "    def get_context(self):\n",
    "        return self.context\n",
    "\n",
    "    def get_tabular_data(self):\n",
    "        return self.tabular_data\n",
    "\n",
    "    def add_to_history(self, question, answer):\n",
    "        self.history.append({\"question\": question, \"answer\": answer})\n",
    "\n",
    "    def get_history(self):\n",
    "        return self.history\n"
   ]
  },
  {
   "cell_type": "code",
   "execution_count": 7,
   "id": "ad04e382",
   "metadata": {},
   "outputs": [
    {
     "name": "stdout",
     "output_type": "stream",
     "text": [
      "File Uploaded & Parsed: tabular\n"
     ]
    }
   ],
   "source": [
    "# Upload and parse file\n",
    "agent = ChatAgent()\n",
    "\n",
    "with open(\"test_data.csv\", \"rb\") as f:\n",
    "    file_bytes = f.read()\n",
    "    filename = \"test_data.csv\"\n",
    "\n",
    "result = upload_file(file_bytes, filename)\n",
    "agent.store_context(result)\n",
    "print(\"File Uploaded & Parsed:\", result[\"type\"])\n"
   ]
  },
  {
   "cell_type": "code",
   "execution_count": 8,
   "id": "d6cdbfdb",
   "metadata": {},
   "outputs": [
    {
     "name": "stdout",
     "output_type": "stream",
     "text": [
      "LLM Answer: To analyze the dependency between gender and income based on the provided tabular data, let's first summarize the data by calculating the average income for each gender.\n",
      "\n",
      "### Data Summary\n",
      "\n",
      "1. **Female (F) Data Points:**\n",
      "   - Alice (25, F, 50000)\n",
      "   - Eve (40, F, 70000)\n",
      "   - Grace (29, F, 62000)\n",
      "   - Ivy (27, F, 51000)\n",
      "\n",
      "2. **Male (M) Data Points:**\n",
      "   - Bob (30, M, 60000)\n",
      "   - Charlie (35, M, 55000)\n",
      "   - David (28, M, 52000)\n",
      "   - Frank (32, M, 48000)\n",
      "   - Hank (31, M, 53000)\n",
      "   - Jack (38, M, 75000)\n",
      "\n",
      "### Calculating Average Income by Gender\n",
      "\n",
      "1. **Average Income for Females:**\n",
      "   - Total Income = 50000 + 70000 + 62000 + 51000 = 233000\n",
      "   - Number of Females = 4\n",
      "   - Average Income = 233000 / 4 = 58250\n",
      "\n",
      "2. **Average Income for Males:**\n",
      "   - Total Income = 60000 + 55000 + 52000 + 48000 + 53000 + 75000 = 343000\n",
      "   - Number of Males = 6\n",
      "   - Average Income = 343000 / 6 = 57166.67\n",
      "\n",
      "### Insights\n",
      "\n",
      "- The average income for females is approximately $58,250.\n",
      "- The average income for males is approximately $57,167.\n",
      "\n",
      "### Dependency Between Gender and Income\n",
      "\n",
      "Based on the provided data, there is a slight difference in the average income between genders, with females having a slightly higher average income than males. However, the difference is not substantial ($1,083.33 more for females on average), suggesting that in this dataset, gender does not have a strong dependency with income. Other factors such as age, occupation (not provided), and individual qualifications could play more significant roles in determining income levels.\n",
      "\n",
      "To draw more robust conclusions, further analysis involving other variables and a larger dataset would be necessary. Nonetheless, based on the given data, the dependency between gender and income appears to be minimal.\n"
     ]
    }
   ],
   "source": [
    "# LLM Query\n",
    "\n",
    "question = \"explain in short the key insights dependencies between gender and income\"\n",
    "context = agent.get_context()\n",
    "answer = ask_llm(question, context)\n",
    "agent.add_to_history(question, answer)\n",
    "print(\"LLM Answer:\", answer)\n"
   ]
  },
  {
   "cell_type": "code",
   "execution_count": 9,
   "id": "1b54477f",
   "metadata": {},
   "outputs": [
    {
     "name": "stdout",
     "output_type": "stream",
     "text": [
      "Data Analysis Result: []\n"
     ]
    }
   ],
   "source": [
    "# Data Analysis Example\n",
    "\n",
    "data = agent.get_tabular_data()\n",
    "analysis_result = analyze_data(data, analysis_type=\"zscore_anomaly\", params={\"col\": \"income\"})\n",
    "print(\"Data Analysis Result:\", analysis_result)\n"
   ]
  },
  {
   "cell_type": "code",
   "execution_count": null,
   "id": "1a99107d",
   "metadata": {},
   "outputs": [
    {
     "name": "stdout",
     "output_type": "stream",
     "text": [
      "Visualization saved at: /figures/8fd10082-3f18-43cf-aa33-6984372938cc.png\n"
     ]
    }
   ],
   "source": [
    "# Visualization Example\n",
    "\n",
    "fig_path = generate_visualization(result[\"data\"], chart_type=\"bar\", params={\"x\": \"gender\", \"y\": \"income\"})\n",
    "print(\"Visualization saved at:\", fig_path)\n"
   ]
  },
  {
   "cell_type": "code",
   "execution_count": null,
   "id": "5138df7a",
   "metadata": {},
   "outputs": [],
   "source": []
  }
 ],
 "metadata": {
  "kernelspec": {
   "display_name": "daagent",
   "language": "python",
   "name": "python3"
  },
  "language_info": {
   "codemirror_mode": {
    "name": "ipython",
    "version": 3
   },
   "file_extension": ".py",
   "mimetype": "text/x-python",
   "name": "python",
   "nbconvert_exporter": "python",
   "pygments_lexer": "ipython3",
   "version": "3.12.5"
  }
 },
 "nbformat": 4,
 "nbformat_minor": 5
}
